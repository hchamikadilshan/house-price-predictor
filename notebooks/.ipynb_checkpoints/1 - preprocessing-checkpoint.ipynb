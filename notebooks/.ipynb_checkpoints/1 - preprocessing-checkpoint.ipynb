{
 "cells": [
  {
   "cell_type": "markdown",
   "id": "1b183c9a",
   "metadata": {},
   "source": [
    "# Importing Packages"
   ]
  },
  {
   "cell_type": "code",
   "execution_count": 132,
   "id": "3d505832",
   "metadata": {},
   "outputs": [],
   "source": [
    "import pandas as pd\n",
    "import matplotlib.pyplot as plt\n",
    "import seaborn as sns\n",
    "import numpy as np"
   ]
  },
  {
   "cell_type": "markdown",
   "id": "685d208f",
   "metadata": {},
   "source": [
    "# Import Data"
   ]
  },
  {
   "cell_type": "code",
   "execution_count": 133,
   "id": "e71528e9",
   "metadata": {},
   "outputs": [],
   "source": [
    "train_data = pd.read_csv(\"../datasets/train.csv\")\n",
    "test_data = pd.read_csv(\"../datasets/test.csv\")"
   ]
  },
  {
   "cell_type": "code",
   "execution_count": null,
   "id": "73acf515",
   "metadata": {},
   "outputs": [],
   "source": [
    "train_data.info()"
   ]
  },
  {
   "cell_type": "code",
   "execution_count": null,
   "id": "caef55df",
   "metadata": {},
   "outputs": [],
   "source": [
    "test_data.info()"
   ]
  },
  {
   "cell_type": "markdown",
   "id": "82860f19",
   "metadata": {},
   "source": [
    "# Handling Missing Values "
   ]
  },
  {
   "cell_type": "markdown",
   "id": "abf3c994",
   "metadata": {},
   "source": [
    "## 1. `LotFrontage`"
   ]
  },
  {
   "cell_type": "markdown",
   "id": "0e13dd4d",
   "metadata": {},
   "source": [
    "**LotFrontage**: Linear feet of street connected to property"
   ]
  },
  {
   "cell_type": "code",
   "execution_count": 134,
   "id": "5ad4bff0",
   "metadata": {},
   "outputs": [
    {
     "name": "stderr",
     "output_type": "stream",
     "text": [
      "C:\\Users\\hcham\\anaconda3\\Lib\\site-packages\\seaborn\\_oldcore.py:1119: FutureWarning: use_inf_as_na option is deprecated and will be removed in a future version. Convert inf values to NaN before operating instead.\n",
      "  with pd.option_context('mode.use_inf_as_na', True):\n"
     ]
    },
    {
     "data": {
      "image/png": "[encoded data removed]",
      "text/plain": [
       "<Figure size 600x400 with 1 Axes>"
      ]
     },
     "metadata": {},
     "output_type": "display_data"
    },
    {
     "name": "stdout",
     "output_type": "stream",
     "text": [
      "69.0\n"
     ]
    }
   ],
   "source": [
    "bins = int(np.ceil(np.log2(1460) + 1))\n",
    "\n",
    "plt.figure(figsize=(6, 4))\n",
    "sns.histplot(train_data[\"LotFrontage\"],bins=bins,kde=False,color=\"blue\")\n",
    "plt.xlabel(\"LotFrontage\")\n",
    "plt.ylabel(\"Frequency\")\n",
    "plt.title('Histogram of LotFrontage')\n",
    "plt.show()\n",
    "\n",
    "median_value = train_data['LotFrontage'].median()\n",
    "print(median_value)"
   ]
  },
  {
   "cell_type": "markdown",
   "id": "b73638aa",
   "metadata": {},
   "source": [
    "### Imputing Missing Values in `LotFrontage` using Median"
   ]
  },
  {
   "cell_type": "code",
   "execution_count": 135,
   "id": "1eba47cc",
   "metadata": {},
   "outputs": [],
   "source": [
    "median_value = train_data['LotFrontage'].median()\n",
    "train_data['LotFrontage'] = train_data['LotFrontage'].fillna(median_value)\n",
    "test_data['LotFrontage'] = test_data['LotFrontage'].fillna(median_value)"
   ]
  },
  {
   "cell_type": "code",
   "execution_count": null,
   "id": "1207eb47",
   "metadata": {},
   "outputs": [],
   "source": []
  }
 ],
 "metadata": {
  "kernelspec": {
   "display_name": "Python 3 (ipykernel)",
   "language": "python",
   "name": "python3"
  },
  "language_info": {
   "codemirror_mode": {
    "name": "ipython",
    "version": 3
   },
   "file_extension": ".py",
   "mimetype": "text/x-python",
   "name": "python",
   "nbconvert_exporter": "python",
   "pygments_lexer": "ipython3",
   "version": "3.11.7"
  }
 },
 "nbformat": 4,
 "nbformat_minor": 5
}
