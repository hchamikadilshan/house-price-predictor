{
 "cells": [
  {
   "cell_type": "markdown",
   "id": "1b183c9a",
   "metadata": {},
   "source": [
    "# Importing Packages"
   ]
  },
  {
   "cell_type": "code",
   "execution_count": 70,
   "id": "3d505832",
   "metadata": {},
   "outputs": [],
   "source": [
    "import pandas as pd\n",
    "import matplotlib.pyplot as plt\n",
    "import seaborn as sns\n",
    "import numpy as np"
   ]
  },
  {
   "cell_type": "markdown",
   "id": "685d208f",
   "metadata": {},
   "source": [
    "# Import Data"
   ]
  },
  {
   "cell_type": "code",
   "execution_count": 71,
   "id": "e71528e9",
   "metadata": {},
   "outputs": [],
   "source": [
    "train_data = pd.read_csv(\"../datasets/train.csv\")\n",
    "test_data = pd.read_csv(\"../datasets/test.csv\")"
   ]
  },
  {
   "cell_type": "code",
   "execution_count": 119,
   "id": "73acf515",
   "metadata": {},
   "outputs": [
    {
     "name": "stdout",
     "output_type": "stream",
     "text": [
      "<class 'pandas.core.frame.DataFrame'>\n",
      "Index: 1455 entries, 0 to 1459\n",
      "Data columns (total 81 columns):\n",
      " #   Column         Non-Null Count  Dtype  \n",
      "---  ------         --------------  -----  \n",
      " 0   Id             1455 non-null   int64  \n",
      " 1   MSSubClass     1455 non-null   int64  \n",
      " 2   MSZoning       1455 non-null   object \n",
      " 3   LotFrontage    1455 non-null   float64\n",
      " 4   LotArea        1455 non-null   int64  \n",
      " 5   Street         1455 non-null   object \n",
      " 6   Alley          1455 non-null   object \n",
      " 7   LotShape       1455 non-null   object \n",
      " 8   LandContour    1455 non-null   object \n",
      " 9   Utilities      1455 non-null   object \n",
      " 10  LotConfig      1455 non-null   object \n",
      " 11  LandSlope      1455 non-null   object \n",
      " 12  Neighborhood   1455 non-null   object \n",
      " 13  Condition1     1455 non-null   object \n",
      " 14  Condition2     1455 non-null   object \n",
      " 15  BldgType       1455 non-null   object \n",
      " 16  HouseStyle     1455 non-null   object \n",
      " 17  OverallQual    1455 non-null   int64  \n",
      " 18  OverallCond    1455 non-null   int64  \n",
      " 19  YearBuilt      1455 non-null   int64  \n",
      " 20  YearRemodAdd   1455 non-null   int64  \n",
      " 21  RoofStyle      1455 non-null   object \n",
      " 22  RoofMatl       1455 non-null   object \n",
      " 23  Exterior1st    1455 non-null   object \n",
      " 24  Exterior2nd    1455 non-null   object \n",
      " 25  MasVnrType     1455 non-null   object \n",
      " 26  MasVnrArea     1455 non-null   float64\n",
      " 27  ExterQual      1455 non-null   object \n",
      " 28  ExterCond      1455 non-null   object \n",
      " 29  Foundation     1455 non-null   object \n",
      " 30  BsmtQual       1455 non-null   object \n",
      " 31  BsmtCond       1455 non-null   object \n",
      " 32  BsmtExposure   1455 non-null   object \n",
      " 33  BsmtFinType1   1455 non-null   object \n",
      " 34  BsmtFinSF1     1455 non-null   int64  \n",
      " 35  BsmtFinType2   1455 non-null   object \n",
      " 36  BsmtFinSF2     1455 non-null   int64  \n",
      " 37  BsmtUnfSF      1455 non-null   int64  \n",
      " 38  TotalBsmtSF    1455 non-null   int64  \n",
      " 39  Heating        1455 non-null   object \n",
      " 40  HeatingQC      1455 non-null   object \n",
      " 41  CentralAir     1455 non-null   object \n",
      " 42  Electrical     1454 non-null   object \n",
      " 43  1stFlrSF       1455 non-null   int64  \n",
      " 44  2ndFlrSF       1455 non-null   int64  \n",
      " 45  LowQualFinSF   1455 non-null   int64  \n",
      " 46  GrLivArea      1455 non-null   int64  \n",
      " 47  BsmtFullBath   1455 non-null   int64  \n",
      " 48  BsmtHalfBath   1455 non-null   int64  \n",
      " 49  FullBath       1455 non-null   int64  \n",
      " 50  HalfBath       1455 non-null   int64  \n",
      " 51  BedroomAbvGr   1455 non-null   int64  \n",
      " 52  KitchenAbvGr   1455 non-null   int64  \n",
      " 53  KitchenQual    1455 non-null   object \n",
      " 54  TotRmsAbvGrd   1455 non-null   int64  \n",
      " 55  Functional     1455 non-null   object \n",
      " 56  Fireplaces     1455 non-null   int64  \n",
      " 57  FireplaceQu    767 non-null    object \n",
      " 58  GarageType     1374 non-null   object \n",
      " 59  GarageYrBlt    1374 non-null   float64\n",
      " 60  GarageFinish   1374 non-null   object \n",
      " 61  GarageCars     1455 non-null   int64  \n",
      " 62  GarageArea     1455 non-null   int64  \n",
      " 63  GarageQual     1374 non-null   object \n",
      " 64  GarageCond     1374 non-null   object \n",
      " 65  PavedDrive     1455 non-null   object \n",
      " 66  WoodDeckSF     1455 non-null   int64  \n",
      " 67  OpenPorchSF    1455 non-null   int64  \n",
      " 68  EnclosedPorch  1455 non-null   int64  \n",
      " 69  3SsnPorch      1455 non-null   int64  \n",
      " 70  ScreenPorch    1455 non-null   int64  \n",
      " 71  PoolArea       1455 non-null   int64  \n",
      " 72  PoolQC         7 non-null      object \n",
      " 73  Fence          281 non-null    object \n",
      " 74  MiscFeature    53 non-null     object \n",
      " 75  MiscVal        1455 non-null   int64  \n",
      " 76  MoSold         1455 non-null   int64  \n",
      " 77  YrSold         1455 non-null   int64  \n",
      " 78  SaleType       1455 non-null   object \n",
      " 79  SaleCondition  1455 non-null   object \n",
      " 80  SalePrice      1455 non-null   int64  \n",
      "dtypes: float64(3), int64(35), object(43)\n",
      "memory usage: 964.4+ KB\n"
     ]
    }
   ],
   "source": [
    "train_data.info()"
   ]
  },
  {
   "cell_type": "code",
   "execution_count": 113,
   "id": "caef55df",
   "metadata": {},
   "outputs": [
    {
     "name": "stdout",
     "output_type": "stream",
     "text": [
      "<class 'pandas.core.frame.DataFrame'>\n",
      "Index: 1456 entries, 0 to 1458\n",
      "Data columns (total 80 columns):\n",
      " #   Column         Non-Null Count  Dtype  \n",
      "---  ------         --------------  -----  \n",
      " 0   Id             1456 non-null   int64  \n",
      " 1   MSSubClass     1456 non-null   int64  \n",
      " 2   MSZoning       1452 non-null   object \n",
      " 3   LotFrontage    1456 non-null   float64\n",
      " 4   LotArea        1456 non-null   int64  \n",
      " 5   Street         1456 non-null   object \n",
      " 6   Alley          1456 non-null   object \n",
      " 7   LotShape       1456 non-null   object \n",
      " 8   LandContour    1456 non-null   object \n",
      " 9   Utilities      1454 non-null   object \n",
      " 10  LotConfig      1456 non-null   object \n",
      " 11  LandSlope      1456 non-null   object \n",
      " 12  Neighborhood   1456 non-null   object \n",
      " 13  Condition1     1456 non-null   object \n",
      " 14  Condition2     1456 non-null   object \n",
      " 15  BldgType       1456 non-null   object \n",
      " 16  HouseStyle     1456 non-null   object \n",
      " 17  OverallQual    1456 non-null   int64  \n",
      " 18  OverallCond    1456 non-null   int64  \n",
      " 19  YearBuilt      1456 non-null   int64  \n",
      " 20  YearRemodAdd   1456 non-null   int64  \n",
      " 21  RoofStyle      1456 non-null   object \n",
      " 22  RoofMatl       1456 non-null   object \n",
      " 23  Exterior1st    1455 non-null   object \n",
      " 24  Exterior2nd    1455 non-null   object \n",
      " 25  MasVnrType     1456 non-null   object \n",
      " 26  MasVnrArea     1456 non-null   float64\n",
      " 27  ExterQual      1456 non-null   object \n",
      " 28  ExterCond      1456 non-null   object \n",
      " 29  Foundation     1456 non-null   object \n",
      " 30  BsmtQual       1456 non-null   object \n",
      " 31  BsmtCond       1456 non-null   object \n",
      " 32  BsmtExposure   1456 non-null   object \n",
      " 33  BsmtFinType1   1456 non-null   object \n",
      " 34  BsmtFinSF1     1456 non-null   float64\n",
      " 35  BsmtFinType2   1456 non-null   object \n",
      " 36  BsmtFinSF2     1456 non-null   float64\n",
      " 37  BsmtUnfSF      1456 non-null   float64\n",
      " 38  TotalBsmtSF    1456 non-null   float64\n",
      " 39  Heating        1456 non-null   object \n",
      " 40  HeatingQC      1456 non-null   object \n",
      " 41  CentralAir     1456 non-null   object \n",
      " 42  Electrical     1456 non-null   object \n",
      " 43  1stFlrSF       1456 non-null   int64  \n",
      " 44  2ndFlrSF       1456 non-null   int64  \n",
      " 45  LowQualFinSF   1456 non-null   int64  \n",
      " 46  GrLivArea      1456 non-null   int64  \n",
      " 47  BsmtFullBath   1454 non-null   float64\n",
      " 48  BsmtHalfBath   1454 non-null   float64\n",
      " 49  FullBath       1456 non-null   int64  \n",
      " 50  HalfBath       1456 non-null   int64  \n",
      " 51  BedroomAbvGr   1456 non-null   int64  \n",
      " 52  KitchenAbvGr   1456 non-null   int64  \n",
      " 53  KitchenQual    1455 non-null   object \n",
      " 54  TotRmsAbvGrd   1456 non-null   int64  \n",
      " 55  Functional     1454 non-null   object \n",
      " 56  Fireplaces     1456 non-null   int64  \n",
      " 57  FireplaceQu    728 non-null    object \n",
      " 58  GarageType     1380 non-null   object \n",
      " 59  GarageYrBlt    1378 non-null   float64\n",
      " 60  GarageFinish   1378 non-null   object \n",
      " 61  GarageCars     1455 non-null   float64\n",
      " 62  GarageArea     1455 non-null   float64\n",
      " 63  GarageQual     1378 non-null   object \n",
      " 64  GarageCond     1378 non-null   object \n",
      " 65  PavedDrive     1456 non-null   object \n",
      " 66  WoodDeckSF     1456 non-null   int64  \n",
      " 67  OpenPorchSF    1456 non-null   int64  \n",
      " 68  EnclosedPorch  1456 non-null   int64  \n",
      " 69  3SsnPorch      1456 non-null   int64  \n",
      " 70  ScreenPorch    1456 non-null   int64  \n",
      " 71  PoolArea       1456 non-null   int64  \n",
      " 72  PoolQC         3 non-null      object \n",
      " 73  Fence          290 non-null    object \n",
      " 74  MiscFeature    51 non-null     object \n",
      " 75  MiscVal        1456 non-null   int64  \n",
      " 76  MoSold         1456 non-null   int64  \n",
      " 77  YrSold         1456 non-null   int64  \n",
      " 78  SaleType       1455 non-null   object \n",
      " 79  SaleCondition  1456 non-null   object \n",
      "dtypes: float64(11), int64(26), object(43)\n",
      "memory usage: 953.7+ KB\n"
     ]
    }
   ],
   "source": [
    "test_data.info()"
   ]
  },
  {
   "cell_type": "markdown",
   "id": "82860f19",
   "metadata": {},
   "source": [
    "# Handling Missing Values "
   ]
  },
  {
   "cell_type": "markdown",
   "id": "abf3c994",
   "metadata": {},
   "source": [
    "## 1. `LotFrontage`"
   ]
  },
  {
   "cell_type": "markdown",
   "id": "0e13dd4d",
   "metadata": {},
   "source": [
    "**LotFrontage**: Linear feet of street connected to property"
   ]
  },
  {
   "cell_type": "code",
   "execution_count": 74,
   "id": "5ad4bff0",
   "metadata": {},
   "outputs": [
    {
     "name": "stderr",
     "output_type": "stream",
     "text": [
      "C:\\Users\\hcham\\anaconda3\\Lib\\site-packages\\seaborn\\_oldcore.py:1119: FutureWarning: use_inf_as_na option is deprecated and will be removed in a future version. Convert inf values to NaN before operating instead.\n",
      "  with pd.option_context('mode.use_inf_as_na', True):\n"
     ]
    },
    {
     "data": {
      "image/png": "[encoded data removed]",
      "text/plain": [
       "<Figure size 600x400 with 1 Axes>"
      ]
     },
     "metadata": {},
     "output_type": "display_data"
    },
    {
     "name": "stdout",
     "output_type": "stream",
     "text": [
      "69.0\n"
     ]
    }
   ],
   "source": [
    "bins = int(np.ceil(np.log2(1460) + 1))\n",
    "\n",
    "plt.figure(figsize=(6, 4))\n",
    "sns.histplot(train_data[\"LotFrontage\"],bins=bins,kde=False,color=\"blue\")\n",
    "plt.xlabel(\"LotFrontage\")\n",
    "plt.ylabel(\"Frequency\")\n",
    "plt.title('Histogram of LotFrontage')\n",
    "plt.show()\n",
    "\n",
    "median_value = train_data['LotFrontage'].median()\n",
    "print(median_value)"
   ]
  },
  {
   "cell_type": "markdown",
   "id": "b73638aa",
   "metadata": {},
   "source": [
    "### Imputing Missing Values in `LotFrontage` using Median"
   ]
  },
  {
   "cell_type": "code",
   "execution_count": 75,
   "id": "1eba47cc",
   "metadata": {},
   "outputs": [],
   "source": [
    "median_value = train_data['LotFrontage'].median()\n",
    "train_data['LotFrontage'] = train_data['LotFrontage'].fillna(median_value)\n",
    "test_data['LotFrontage'] = test_data['LotFrontage'].fillna(median_value)"
   ]
  },
  {
   "cell_type": "code",
   "execution_count": 76,
   "id": "1207eb47",
   "metadata": {},
   "outputs": [
    {
     "name": "stderr",
     "output_type": "stream",
     "text": [
      "C:\\Users\\hcham\\anaconda3\\Lib\\site-packages\\seaborn\\_oldcore.py:1119: FutureWarning: use_inf_as_na option is deprecated and will be removed in a future version. Convert inf values to NaN before operating instead.\n",
      "  with pd.option_context('mode.use_inf_as_na', True):\n"
     ]
    },
    {
     "data": {
      "image/png": "[encoded data removed]",
      "text/plain": [
       "<Figure size 600x400 with 1 Axes>"
      ]
     },
     "metadata": {},
     "output_type": "display_data"
    },
    {
     "name": "stdout",
     "output_type": "stream",
     "text": [
      "69.0\n"
     ]
    }
   ],
   "source": [
    "bins = int(np.ceil(np.log2(1460) + 1))\n",
    "\n",
    "plt.figure(figsize=(6, 4))\n",
    "sns.histplot(train_data[\"LotFrontage\"],bins=bins,kde=False,color=\"blue\")\n",
    "plt.xlabel(\"LotFrontage\")\n",
    "plt.ylabel(\"Frequency\")\n",
    "plt.title('Histogram of LotFrontage After Imputation')\n",
    "plt.show()\n",
    "\n",
    "median_value = train_data['LotFrontage'].median()\n",
    "print(median_value)"
   ]
  },
  {
   "cell_type": "markdown",
   "id": "d1dcadda",
   "metadata": {},
   "source": [
    "## 2. `Alley`"
   ]
  },
  {
   "cell_type": "code",
   "execution_count": 79,
   "id": "e8c0f939",
   "metadata": {},
   "outputs": [],
   "source": [
    "train_data['Alley'] = train_data['Alley'].fillna(\"No Alley\")\n",
    "test_data['Alley'] = test_data['Alley'].fillna(\"No Alley\")"
   ]
  },
  {
   "cell_type": "markdown",
   "id": "48f0b6f3",
   "metadata": {},
   "source": [
    "## 3. `MasVnrType` and `MasVnrArea`"
   ]
  },
  {
   "cell_type": "code",
   "execution_count": 82,
   "id": "fe6ead72",
   "metadata": {},
   "outputs": [
    {
     "name": "stdout",
     "output_type": "stream",
     "text": [
      "['BrkFace' nan 'Stone' 'BrkCmn']\n",
      "[nan 'BrkFace' 'Stone' 'BrkCmn']\n"
     ]
    }
   ],
   "source": [
    "print(train_data[\"MasVnrType\"].unique())\n",
    "print(test_data[\"MasVnrType\"].unique())"
   ]
  },
  {
   "cell_type": "code",
   "execution_count": 83,
   "id": "820e6a45",
   "metadata": {},
   "outputs": [
    {
     "name": "stderr",
     "output_type": "stream",
     "text": [
      "C:\\Users\\hcham\\anaconda3\\Lib\\site-packages\\seaborn\\_oldcore.py:1119: FutureWarning: use_inf_as_na option is deprecated and will be removed in a future version. Convert inf values to NaN before operating instead.\n",
      "  with pd.option_context('mode.use_inf_as_na', True):\n"
     ]
    },
    {
     "data": {
      "image/png": "[encoded data removed]",
      "text/plain": [
       "<Figure size 600x400 with 1 Axes>"
      ]
     },
     "metadata": {},
     "output_type": "display_data"
    },
    {
     "name": "stdout",
     "output_type": "stream",
     "text": [
      "0.0\n"
     ]
    }
   ],
   "source": [
    "bins = int(np.ceil(np.log2(1460) + 1))\n",
    "plt.figure(figsize=(6,4))\n",
    "sns.histplot(train_data[\"MasVnrArea\"],bins=bins,kde=False,color=\"blue\")\n",
    "plt.xlabel(\"MasVnrArea\")\n",
    "plt.ylabel(\"Frequency\")\n",
    "plt.title('Histogram of `MasVnrArea` ')\n",
    "plt.show()\n",
    "\n",
    "median_value = train_data['MasVnrArea'].median()\n",
    "print(median_value)"
   ]
  },
  {
   "cell_type": "code",
   "execution_count": 84,
   "id": "d472e897",
   "metadata": {},
   "outputs": [
    {
     "name": "stdout",
     "output_type": "stream",
     "text": [
      "Number of rows where 'MasVnrArea' equals 0: 861\n"
     ]
    }
   ],
   "source": [
    "count_zero_mas_vnr_area = train_data[train_data['MasVnrArea'] == 0].shape[0]\n",
    "print(f\"Number of rows where 'MasVnrArea' equals 0: {count_zero_mas_vnr_area}\")"
   ]
  },
  {
   "cell_type": "code",
   "execution_count": 85,
   "id": "78b0ea1c",
   "metadata": {},
   "outputs": [
    {
     "data": {
      "image/png": "[encoded data removed]",
      "text/plain": [
       "<Figure size 640x480 with 1 Axes>"
      ]
     },
     "metadata": {},
     "output_type": "display_data"
    }
   ],
   "source": [
    "import seaborn as sns\n",
    "import matplotlib.pyplot as plt\n",
    "\n",
    "sns.boxplot(data=train_data, x='MasVnrType', y='MasVnrArea')\n",
    "plt.title(\"Distribution of MasVnrArea by MasVnrType\")\n",
    "plt.xticks(rotation=45)\n",
    "plt.show()\n"
   ]
  },
  {
   "cell_type": "code",
   "execution_count": 86,
   "id": "ac5ab891",
   "metadata": {},
   "outputs": [],
   "source": [
    "# Impute \"No MasVnr\" where \"MasVnrArea\" equals 0 and \"MasVnrType\" is NaN\n",
    "train_data.loc[(train_data['MasVnrArea'] == 0) & (train_data['MasVnrType'].isnull()), 'MasVnrType'] = 'No MasVnr'\n",
    "test_data.loc[(test_data['MasVnrArea'] == 0) & (test_data['MasVnrType'].isnull()), 'MasVnrType'] = 'No MasVnr'\n",
    "\n",
    "# Impute \"No MasVnr\" to \"MasVnrType\" and 0 to \"MasVnrArea\"  where \"MasVnrArea\" is NaN and \"MasVnrType\" is NaN\n",
    "train_data.loc[(train_data['MasVnrArea'].isnull()) & (train_data['MasVnrType'].isnull()), ['MasVnrArea', 'MasVnrType']] = [0, 'No MasVnr']\n",
    "test_data.loc[(test_data['MasVnrArea'].isnull()) & (test_data['MasVnrType'].isnull()), ['MasVnrArea', 'MasVnrType']] = [0, 'No MasVnr']"
   ]
  },
  {
   "cell_type": "code",
   "execution_count": 89,
   "id": "686c86f0",
   "metadata": {},
   "outputs": [
    {
     "name": "stdout",
     "output_type": "stream",
     "text": [
      "MasVnrType(train) - 5\n",
      "MasVnrType(test) - 3\n",
      "MasVnrArea(train) - 0\n",
      "MasVnrArea(test) - 0\n"
     ]
    }
   ],
   "source": [
    "missing_values_count = train_data['MasVnrType'].isnull().sum()\n",
    "print(f\"MasVnrType(train) - {missing_values_count}\")\n",
    "missing_values_count = test_data['MasVnrType'].isnull().sum()\n",
    "print(f\"MasVnrType(test) - {missing_values_count}\")\n",
    "\n",
    "missing_values_count = train_data['MasVnrArea'].isnull().sum()\n",
    "print(f\"MasVnrArea(train) - {missing_values_count}\")\n",
    "missing_values_count = test_data['MasVnrArea'].isnull().sum()\n",
    "print(f\"MasVnrArea(test) - {missing_values_count}\")"
   ]
  },
  {
   "cell_type": "code",
   "execution_count": 90,
   "id": "08e3b195",
   "metadata": {},
   "outputs": [],
   "source": [
    "train_data = train_data.dropna(subset=['MasVnrType'])\n",
    "test_data = test_data.dropna(subset=['MasVnrType'])"
   ]
  },
  {
   "cell_type": "markdown",
   "id": "6892ccd2",
   "metadata": {},
   "source": [
    "## 3. `BsmtQual` , `BsmtCond` and `BsmtExposure`"
   ]
  },
  {
   "cell_type": "code",
   "execution_count": 93,
   "id": "2adef9ee",
   "metadata": {},
   "outputs": [],
   "source": [
    "# Impute \"No Basement\" where \"BsmtQual\", \"BsmtCond\" and \"BsmtExposure\" is NaN\n",
    "train_data.loc[(train_data['BsmtQual'].isnull()) & (train_data['BsmtCond'].isnull()) & (train_data['BsmtExposure'].isnull()), ['BsmtQual', 'BsmtCond','BsmtExposure']] = ['No Basement','No Basement','No Basement']\n",
    "test_data.loc[(test_data['BsmtQual'].isnull()) & (test_data['BsmtCond'].isnull()) & (test_data['BsmtExposure'].isnull()), ['BsmtQual', 'BsmtCond','BsmtExposure']] = ['No Basement','No Basement','No Basement']"
   ]
  },
  {
   "cell_type": "code",
   "execution_count": 94,
   "id": "16d8d836",
   "metadata": {},
   "outputs": [
    {
     "data": {
      "text/plain": [
       "BsmtQual        0\n",
       "BsmtCond        0\n",
       "BsmtExposure    1\n",
       "dtype: int64"
      ]
     },
     "execution_count": 94,
     "metadata": {},
     "output_type": "execute_result"
    }
   ],
   "source": [
    "train_data[['BsmtQual','BsmtCond','BsmtExposure']].isnull().sum()"
   ]
  },
  {
   "cell_type": "code",
   "execution_count": 95,
   "id": "2a961b0b",
   "metadata": {},
   "outputs": [
    {
     "data": {
      "text/plain": [
       "BsmtQual        2\n",
       "BsmtCond        3\n",
       "BsmtExposure    2\n",
       "dtype: int64"
      ]
     },
     "execution_count": 95,
     "metadata": {},
     "output_type": "execute_result"
    }
   ],
   "source": [
    "test_data[['BsmtQual','BsmtCond','BsmtExposure']].isnull().sum()"
   ]
  },
  {
   "cell_type": "code",
   "execution_count": 96,
   "id": "2221ad48",
   "metadata": {},
   "outputs": [
    {
     "data": {
      "text/html": [
       "<div>\n",
       "<style scoped>\n",
       "    .dataframe tbody tr th:only-of-type {\n",
       "        vertical-align: middle;\n",
       "    }\n",
       "\n",
       "    .dataframe tbody tr th {\n",
       "        vertical-align: top;\n",
       "    }\n",
       "\n",
       "    .dataframe thead th {\n",
       "        text-align: right;\n",
       "    }\n",
       "</style>\n",
       "<table border=\"1\" class=\"dataframe\">\n",
       "  <thead>\n",
       "    <tr style=\"text-align: right;\">\n",
       "      <th></th>\n",
       "      <th>BsmtQual</th>\n",
       "      <th>BsmtCond</th>\n",
       "    </tr>\n",
       "  </thead>\n",
       "  <tbody>\n",
       "    <tr>\n",
       "      <th>948</th>\n",
       "      <td>Gd</td>\n",
       "      <td>TA</td>\n",
       "    </tr>\n",
       "  </tbody>\n",
       "</table>\n",
       "</div>"
      ],
      "text/plain": [
       "    BsmtQual BsmtCond\n",
       "948       Gd       TA"
      ]
     },
     "execution_count": 96,
     "metadata": {},
     "output_type": "execute_result"
    }
   ],
   "source": [
    "train_na_BsmtExposure = train_data[train_data[\"BsmtExposure\"].isna()]\n",
    "train_na_BsmtExposure[[\"BsmtQual\",\"BsmtCond\"]]"
   ]
  },
  {
   "cell_type": "markdown",
   "id": "38c757eb",
   "metadata": {},
   "source": [
    "- since \"BsmtQual\" and\"BsmtCond\" exits in NA of \"BsmtExposure\" in training set, it was assumed that it is \"No Exposure\" and imputed as \"No Exposure\""
   ]
  },
  {
   "cell_type": "code",
   "execution_count": 97,
   "id": "47dba05b",
   "metadata": {},
   "outputs": [],
   "source": [
    "train_data['BsmtExposure'] = train_data['BsmtExposure'].fillna(\"No\")"
   ]
  },
  {
   "cell_type": "code",
   "execution_count": 98,
   "id": "6386d392",
   "metadata": {},
   "outputs": [
    {
     "data": {
      "text/html": [
       "<div>\n",
       "<style scoped>\n",
       "    .dataframe tbody tr th:only-of-type {\n",
       "        vertical-align: middle;\n",
       "    }\n",
       "\n",
       "    .dataframe tbody tr th {\n",
       "        vertical-align: top;\n",
       "    }\n",
       "\n",
       "    .dataframe thead th {\n",
       "        text-align: right;\n",
       "    }\n",
       "</style>\n",
       "<table border=\"1\" class=\"dataframe\">\n",
       "  <thead>\n",
       "    <tr style=\"text-align: right;\">\n",
       "      <th></th>\n",
       "      <th>BsmtQual</th>\n",
       "      <th>BsmtCond</th>\n",
       "      <th>BsmtExposure</th>\n",
       "    </tr>\n",
       "  </thead>\n",
       "  <tbody>\n",
       "    <tr>\n",
       "      <th>27</th>\n",
       "      <td>Gd</td>\n",
       "      <td>TA</td>\n",
       "      <td>NaN</td>\n",
       "    </tr>\n",
       "    <tr>\n",
       "      <th>580</th>\n",
       "      <td>Gd</td>\n",
       "      <td>NaN</td>\n",
       "      <td>Mn</td>\n",
       "    </tr>\n",
       "    <tr>\n",
       "      <th>725</th>\n",
       "      <td>TA</td>\n",
       "      <td>NaN</td>\n",
       "      <td>No</td>\n",
       "    </tr>\n",
       "    <tr>\n",
       "      <th>757</th>\n",
       "      <td>NaN</td>\n",
       "      <td>Fa</td>\n",
       "      <td>No</td>\n",
       "    </tr>\n",
       "    <tr>\n",
       "      <th>758</th>\n",
       "      <td>NaN</td>\n",
       "      <td>TA</td>\n",
       "      <td>No</td>\n",
       "    </tr>\n",
       "    <tr>\n",
       "      <th>888</th>\n",
       "      <td>Gd</td>\n",
       "      <td>TA</td>\n",
       "      <td>NaN</td>\n",
       "    </tr>\n",
       "    <tr>\n",
       "      <th>1064</th>\n",
       "      <td>TA</td>\n",
       "      <td>NaN</td>\n",
       "      <td>Av</td>\n",
       "    </tr>\n",
       "  </tbody>\n",
       "</table>\n",
       "</div>"
      ],
      "text/plain": [
       "     BsmtQual BsmtCond BsmtExposure\n",
       "27         Gd       TA          NaN\n",
       "580        Gd      NaN           Mn\n",
       "725        TA      NaN           No\n",
       "757       NaN       Fa           No\n",
       "758       NaN       TA           No\n",
       "888        Gd       TA          NaN\n",
       "1064       TA      NaN           Av"
      ]
     },
     "execution_count": 98,
     "metadata": {},
     "output_type": "execute_result"
    }
   ],
   "source": [
    "test_na = test_data[test_data[[\"BsmtQual\",\"BsmtCond\",\"BsmtExposure\"]].isna().any(axis=1)]\n",
    "test_na[[\"BsmtQual\",\"BsmtCond\",\"BsmtExposure\"]]"
   ]
  },
  {
   "cell_type": "code",
   "execution_count": 99,
   "id": "643705b2",
   "metadata": {
    "scrolled": false
   },
   "outputs": [
    {
     "data": {
      "image/png": "[encoded data removed]",
      "text/plain": [
       "<Figure size 600x400 with 1 Axes>"
      ]
     },
     "metadata": {},
     "output_type": "display_data"
    },
    {
     "data": {
      "image/png": "[encoded data removed]",
      "text/plain": [
       "<Figure size 600x400 with 1 Axes>"
      ]
     },
     "metadata": {},
     "output_type": "display_data"
    },
    {
     "data": {
      "image/png": "[encoded data removed]",
      "text/plain": [
       "<Figure size 600x400 with 1 Axes>"
      ]
     },
     "metadata": {},
     "output_type": "display_data"
    }
   ],
   "source": [
    "import matplotlib.pyplot as plt\n",
    "\n",
    "# Define columns to plot\n",
    "columns = [\"BsmtQual\", \"BsmtCond\", \"BsmtExposure\"]\n",
    "\n",
    "# Loop through each column to create a bar chart\n",
    "for column in columns:\n",
    "    value_counts = train_data[column].value_counts()  # Get value counts for the column\n",
    "    plt.figure(figsize=(6, 4))  # Create a new figure for each column\n",
    "    value_counts.plot(kind='bar', color='skyblue', edgecolor='black')\n",
    "    plt.title(f'Bar Chart of {column}', fontsize=14)\n",
    "    plt.xlabel(column, fontsize=12)\n",
    "    plt.ylabel('Count', fontsize=12)\n",
    "    plt.xticks(rotation=45)\n",
    "    plt.grid(axis='y', linestyle='--', alpha=0.7)\n",
    "    plt.show()\n"
   ]
  },
  {
   "cell_type": "code",
   "execution_count": 100,
   "id": "1301f72a",
   "metadata": {},
   "outputs": [],
   "source": [
    "# Impute missing values with the mode (most frequent value) for each column\n",
    "for col in [\"BsmtQual\", \"BsmtCond\", \"BsmtExposure\"]:\n",
    "    mode_value = test_data[col].mode()[0]  \n",
    "    test_data[col] = test_data[col].fillna(mode_value)  \n"
   ]
  },
  {
   "cell_type": "markdown",
   "id": "3a7e910a",
   "metadata": {},
   "source": [
    "## 4. `BsmtFinType1` , `BsmtFinType2`, `BsmtFinSF1`, `BsmtFinSF2`, `BsmtUnfSF` and `TotalBsmtSF`"
   ]
  },
  {
   "cell_type": "code",
   "execution_count": 103,
   "id": "86fc750b",
   "metadata": {},
   "outputs": [
    {
     "data": {
      "text/html": [
       "<div>\n",
       "<style scoped>\n",
       "    .dataframe tbody tr th:only-of-type {\n",
       "        vertical-align: middle;\n",
       "    }\n",
       "\n",
       "    .dataframe tbody tr th {\n",
       "        vertical-align: top;\n",
       "    }\n",
       "\n",
       "    .dataframe thead th {\n",
       "        text-align: right;\n",
       "    }\n",
       "</style>\n",
       "<table border=\"1\" class=\"dataframe\">\n",
       "  <thead>\n",
       "    <tr style=\"text-align: right;\">\n",
       "      <th></th>\n",
       "      <th>BsmtFinType1</th>\n",
       "      <th>BsmtFinSF1</th>\n",
       "      <th>BsmtFinType2</th>\n",
       "      <th>BsmtFinSF2</th>\n",
       "      <th>BsmtUnfSF</th>\n",
       "      <th>TotalBsmtSF</th>\n",
       "    </tr>\n",
       "  </thead>\n",
       "  <tbody>\n",
       "    <tr>\n",
       "      <th>17</th>\n",
       "      <td>NaN</td>\n",
       "      <td>0</td>\n",
       "      <td>NaN</td>\n",
       "      <td>0</td>\n",
       "      <td>0</td>\n",
       "      <td>0</td>\n",
       "    </tr>\n",
       "    <tr>\n",
       "      <th>39</th>\n",
       "      <td>NaN</td>\n",
       "      <td>0</td>\n",
       "      <td>NaN</td>\n",
       "      <td>0</td>\n",
       "      <td>0</td>\n",
       "      <td>0</td>\n",
       "    </tr>\n",
       "    <tr>\n",
       "      <th>90</th>\n",
       "      <td>NaN</td>\n",
       "      <td>0</td>\n",
       "      <td>NaN</td>\n",
       "      <td>0</td>\n",
       "      <td>0</td>\n",
       "      <td>0</td>\n",
       "    </tr>\n",
       "    <tr>\n",
       "      <th>102</th>\n",
       "      <td>NaN</td>\n",
       "      <td>0</td>\n",
       "      <td>NaN</td>\n",
       "      <td>0</td>\n",
       "      <td>0</td>\n",
       "      <td>0</td>\n",
       "    </tr>\n",
       "    <tr>\n",
       "      <th>156</th>\n",
       "      <td>NaN</td>\n",
       "      <td>0</td>\n",
       "      <td>NaN</td>\n",
       "      <td>0</td>\n",
       "      <td>0</td>\n",
       "      <td>0</td>\n",
       "    </tr>\n",
       "    <tr>\n",
       "      <th>182</th>\n",
       "      <td>NaN</td>\n",
       "      <td>0</td>\n",
       "      <td>NaN</td>\n",
       "      <td>0</td>\n",
       "      <td>0</td>\n",
       "      <td>0</td>\n",
       "    </tr>\n",
       "    <tr>\n",
       "      <th>259</th>\n",
       "      <td>NaN</td>\n",
       "      <td>0</td>\n",
       "      <td>NaN</td>\n",
       "      <td>0</td>\n",
       "      <td>0</td>\n",
       "      <td>0</td>\n",
       "    </tr>\n",
       "    <tr>\n",
       "      <th>342</th>\n",
       "      <td>NaN</td>\n",
       "      <td>0</td>\n",
       "      <td>NaN</td>\n",
       "      <td>0</td>\n",
       "      <td>0</td>\n",
       "      <td>0</td>\n",
       "    </tr>\n",
       "    <tr>\n",
       "      <th>362</th>\n",
       "      <td>NaN</td>\n",
       "      <td>0</td>\n",
       "      <td>NaN</td>\n",
       "      <td>0</td>\n",
       "      <td>0</td>\n",
       "      <td>0</td>\n",
       "    </tr>\n",
       "    <tr>\n",
       "      <th>371</th>\n",
       "      <td>NaN</td>\n",
       "      <td>0</td>\n",
       "      <td>NaN</td>\n",
       "      <td>0</td>\n",
       "      <td>0</td>\n",
       "      <td>0</td>\n",
       "    </tr>\n",
       "    <tr>\n",
       "      <th>392</th>\n",
       "      <td>NaN</td>\n",
       "      <td>0</td>\n",
       "      <td>NaN</td>\n",
       "      <td>0</td>\n",
       "      <td>0</td>\n",
       "      <td>0</td>\n",
       "    </tr>\n",
       "    <tr>\n",
       "      <th>520</th>\n",
       "      <td>NaN</td>\n",
       "      <td>0</td>\n",
       "      <td>NaN</td>\n",
       "      <td>0</td>\n",
       "      <td>0</td>\n",
       "      <td>0</td>\n",
       "    </tr>\n",
       "    <tr>\n",
       "      <th>532</th>\n",
       "      <td>NaN</td>\n",
       "      <td>0</td>\n",
       "      <td>NaN</td>\n",
       "      <td>0</td>\n",
       "      <td>0</td>\n",
       "      <td>0</td>\n",
       "    </tr>\n",
       "    <tr>\n",
       "      <th>533</th>\n",
       "      <td>NaN</td>\n",
       "      <td>0</td>\n",
       "      <td>NaN</td>\n",
       "      <td>0</td>\n",
       "      <td>0</td>\n",
       "      <td>0</td>\n",
       "    </tr>\n",
       "    <tr>\n",
       "      <th>553</th>\n",
       "      <td>NaN</td>\n",
       "      <td>0</td>\n",
       "      <td>NaN</td>\n",
       "      <td>0</td>\n",
       "      <td>0</td>\n",
       "      <td>0</td>\n",
       "    </tr>\n",
       "    <tr>\n",
       "      <th>646</th>\n",
       "      <td>NaN</td>\n",
       "      <td>0</td>\n",
       "      <td>NaN</td>\n",
       "      <td>0</td>\n",
       "      <td>0</td>\n",
       "      <td>0</td>\n",
       "    </tr>\n",
       "    <tr>\n",
       "      <th>705</th>\n",
       "      <td>NaN</td>\n",
       "      <td>0</td>\n",
       "      <td>NaN</td>\n",
       "      <td>0</td>\n",
       "      <td>0</td>\n",
       "      <td>0</td>\n",
       "    </tr>\n",
       "    <tr>\n",
       "      <th>736</th>\n",
       "      <td>NaN</td>\n",
       "      <td>0</td>\n",
       "      <td>NaN</td>\n",
       "      <td>0</td>\n",
       "      <td>0</td>\n",
       "      <td>0</td>\n",
       "    </tr>\n",
       "    <tr>\n",
       "      <th>749</th>\n",
       "      <td>NaN</td>\n",
       "      <td>0</td>\n",
       "      <td>NaN</td>\n",
       "      <td>0</td>\n",
       "      <td>0</td>\n",
       "      <td>0</td>\n",
       "    </tr>\n",
       "    <tr>\n",
       "      <th>778</th>\n",
       "      <td>NaN</td>\n",
       "      <td>0</td>\n",
       "      <td>NaN</td>\n",
       "      <td>0</td>\n",
       "      <td>0</td>\n",
       "      <td>0</td>\n",
       "    </tr>\n",
       "    <tr>\n",
       "      <th>868</th>\n",
       "      <td>NaN</td>\n",
       "      <td>0</td>\n",
       "      <td>NaN</td>\n",
       "      <td>0</td>\n",
       "      <td>0</td>\n",
       "      <td>0</td>\n",
       "    </tr>\n",
       "    <tr>\n",
       "      <th>894</th>\n",
       "      <td>NaN</td>\n",
       "      <td>0</td>\n",
       "      <td>NaN</td>\n",
       "      <td>0</td>\n",
       "      <td>0</td>\n",
       "      <td>0</td>\n",
       "    </tr>\n",
       "    <tr>\n",
       "      <th>897</th>\n",
       "      <td>NaN</td>\n",
       "      <td>0</td>\n",
       "      <td>NaN</td>\n",
       "      <td>0</td>\n",
       "      <td>0</td>\n",
       "      <td>0</td>\n",
       "    </tr>\n",
       "    <tr>\n",
       "      <th>984</th>\n",
       "      <td>NaN</td>\n",
       "      <td>0</td>\n",
       "      <td>NaN</td>\n",
       "      <td>0</td>\n",
       "      <td>0</td>\n",
       "      <td>0</td>\n",
       "    </tr>\n",
       "    <tr>\n",
       "      <th>1000</th>\n",
       "      <td>NaN</td>\n",
       "      <td>0</td>\n",
       "      <td>NaN</td>\n",
       "      <td>0</td>\n",
       "      <td>0</td>\n",
       "      <td>0</td>\n",
       "    </tr>\n",
       "    <tr>\n",
       "      <th>1011</th>\n",
       "      <td>NaN</td>\n",
       "      <td>0</td>\n",
       "      <td>NaN</td>\n",
       "      <td>0</td>\n",
       "      <td>0</td>\n",
       "      <td>0</td>\n",
       "    </tr>\n",
       "    <tr>\n",
       "      <th>1035</th>\n",
       "      <td>NaN</td>\n",
       "      <td>0</td>\n",
       "      <td>NaN</td>\n",
       "      <td>0</td>\n",
       "      <td>0</td>\n",
       "      <td>0</td>\n",
       "    </tr>\n",
       "    <tr>\n",
       "      <th>1045</th>\n",
       "      <td>NaN</td>\n",
       "      <td>0</td>\n",
       "      <td>NaN</td>\n",
       "      <td>0</td>\n",
       "      <td>0</td>\n",
       "      <td>0</td>\n",
       "    </tr>\n",
       "    <tr>\n",
       "      <th>1048</th>\n",
       "      <td>NaN</td>\n",
       "      <td>0</td>\n",
       "      <td>NaN</td>\n",
       "      <td>0</td>\n",
       "      <td>0</td>\n",
       "      <td>0</td>\n",
       "    </tr>\n",
       "    <tr>\n",
       "      <th>1049</th>\n",
       "      <td>NaN</td>\n",
       "      <td>0</td>\n",
       "      <td>NaN</td>\n",
       "      <td>0</td>\n",
       "      <td>0</td>\n",
       "      <td>0</td>\n",
       "    </tr>\n",
       "    <tr>\n",
       "      <th>1090</th>\n",
       "      <td>NaN</td>\n",
       "      <td>0</td>\n",
       "      <td>NaN</td>\n",
       "      <td>0</td>\n",
       "      <td>0</td>\n",
       "      <td>0</td>\n",
       "    </tr>\n",
       "    <tr>\n",
       "      <th>1179</th>\n",
       "      <td>NaN</td>\n",
       "      <td>0</td>\n",
       "      <td>NaN</td>\n",
       "      <td>0</td>\n",
       "      <td>0</td>\n",
       "      <td>0</td>\n",
       "    </tr>\n",
       "    <tr>\n",
       "      <th>1216</th>\n",
       "      <td>NaN</td>\n",
       "      <td>0</td>\n",
       "      <td>NaN</td>\n",
       "      <td>0</td>\n",
       "      <td>0</td>\n",
       "      <td>0</td>\n",
       "    </tr>\n",
       "    <tr>\n",
       "      <th>1218</th>\n",
       "      <td>NaN</td>\n",
       "      <td>0</td>\n",
       "      <td>NaN</td>\n",
       "      <td>0</td>\n",
       "      <td>0</td>\n",
       "      <td>0</td>\n",
       "    </tr>\n",
       "    <tr>\n",
       "      <th>1232</th>\n",
       "      <td>NaN</td>\n",
       "      <td>0</td>\n",
       "      <td>NaN</td>\n",
       "      <td>0</td>\n",
       "      <td>0</td>\n",
       "      <td>0</td>\n",
       "    </tr>\n",
       "    <tr>\n",
       "      <th>1321</th>\n",
       "      <td>NaN</td>\n",
       "      <td>0</td>\n",
       "      <td>NaN</td>\n",
       "      <td>0</td>\n",
       "      <td>0</td>\n",
       "      <td>0</td>\n",
       "    </tr>\n",
       "    <tr>\n",
       "      <th>1412</th>\n",
       "      <td>NaN</td>\n",
       "      <td>0</td>\n",
       "      <td>NaN</td>\n",
       "      <td>0</td>\n",
       "      <td>0</td>\n",
       "      <td>0</td>\n",
       "    </tr>\n",
       "  </tbody>\n",
       "</table>\n",
       "</div>"
      ],
      "text/plain": [
       "     BsmtFinType1  BsmtFinSF1 BsmtFinType2  BsmtFinSF2  BsmtUnfSF  TotalBsmtSF\n",
       "17            NaN           0          NaN           0          0            0\n",
       "39            NaN           0          NaN           0          0            0\n",
       "90            NaN           0          NaN           0          0            0\n",
       "102           NaN           0          NaN           0          0            0\n",
       "156           NaN           0          NaN           0          0            0\n",
       "182           NaN           0          NaN           0          0            0\n",
       "259           NaN           0          NaN           0          0            0\n",
       "342           NaN           0          NaN           0          0            0\n",
       "362           NaN           0          NaN           0          0            0\n",
       "371           NaN           0          NaN           0          0            0\n",
       "392           NaN           0          NaN           0          0            0\n",
       "520           NaN           0          NaN           0          0            0\n",
       "532           NaN           0          NaN           0          0            0\n",
       "533           NaN           0          NaN           0          0            0\n",
       "553           NaN           0          NaN           0          0            0\n",
       "646           NaN           0          NaN           0          0            0\n",
       "705           NaN           0          NaN           0          0            0\n",
       "736           NaN           0          NaN           0          0            0\n",
       "749           NaN           0          NaN           0          0            0\n",
       "778           NaN           0          NaN           0          0            0\n",
       "868           NaN           0          NaN           0          0            0\n",
       "894           NaN           0          NaN           0          0            0\n",
       "897           NaN           0          NaN           0          0            0\n",
       "984           NaN           0          NaN           0          0            0\n",
       "1000          NaN           0          NaN           0          0            0\n",
       "1011          NaN           0          NaN           0          0            0\n",
       "1035          NaN           0          NaN           0          0            0\n",
       "1045          NaN           0          NaN           0          0            0\n",
       "1048          NaN           0          NaN           0          0            0\n",
       "1049          NaN           0          NaN           0          0            0\n",
       "1090          NaN           0          NaN           0          0            0\n",
       "1179          NaN           0          NaN           0          0            0\n",
       "1216          NaN           0          NaN           0          0            0\n",
       "1218          NaN           0          NaN           0          0            0\n",
       "1232          NaN           0          NaN           0          0            0\n",
       "1321          NaN           0          NaN           0          0            0\n",
       "1412          NaN           0          NaN           0          0            0"
      ]
     },
     "execution_count": 103,
     "metadata": {},
     "output_type": "execute_result"
    }
   ],
   "source": [
    "columns = ['BsmtFinType1', 'BsmtFinSF1', 'BsmtFinType2', 'BsmtFinSF2', 'BsmtUnfSF', 'TotalBsmtSF']\n",
    "total_basement_zero = train_data.loc[train_data['TotalBsmtSF'] == 0,columns ]\n",
    "total_basement_zero"
   ]
  },
  {
   "cell_type": "markdown",
   "id": "bf8e34bc",
   "metadata": {},
   "source": [
    "- Imputed `BsmtFinType1` and `BsmtFinType2` with 'No Basement' where `TotalBsmtSF` is 0 (Total square feet of basement area =0)"
   ]
  },
  {
   "cell_type": "code",
   "execution_count": 104,
   "id": "d9497111",
   "metadata": {},
   "outputs": [],
   "source": [
    "train_data.loc[(train_data['TotalBsmtSF'] == 0) , ['BsmtFinType1', 'BsmtFinType2']] = ['No Basement','No Basement']\n",
    "test_data.loc[(test_data['TotalBsmtSF'] == 0) ,['BsmtFinType1', 'BsmtFinType2']] = ['No Basement','No Basement']"
   ]
  },
  {
   "cell_type": "code",
   "execution_count": 111,
   "id": "e5845f5a",
   "metadata": {},
   "outputs": [
    {
     "data": {
      "text/html": [
       "<div>\n",
       "<style scoped>\n",
       "    .dataframe tbody tr th:only-of-type {\n",
       "        vertical-align: middle;\n",
       "    }\n",
       "\n",
       "    .dataframe tbody tr th {\n",
       "        vertical-align: top;\n",
       "    }\n",
       "\n",
       "    .dataframe thead th {\n",
       "        text-align: right;\n",
       "    }\n",
       "</style>\n",
       "<table border=\"1\" class=\"dataframe\">\n",
       "  <thead>\n",
       "    <tr style=\"text-align: right;\">\n",
       "      <th></th>\n",
       "      <th>BsmtFinType1</th>\n",
       "      <th>BsmtFinSF1</th>\n",
       "      <th>BsmtFinType2</th>\n",
       "      <th>BsmtFinSF2</th>\n",
       "      <th>BsmtUnfSF</th>\n",
       "      <th>TotalBsmtSF</th>\n",
       "    </tr>\n",
       "  </thead>\n",
       "  <tbody>\n",
       "    <tr>\n",
       "      <th>660</th>\n",
       "      <td>NaN</td>\n",
       "      <td>NaN</td>\n",
       "      <td>NaN</td>\n",
       "      <td>NaN</td>\n",
       "      <td>NaN</td>\n",
       "      <td>NaN</td>\n",
       "    </tr>\n",
       "  </tbody>\n",
       "</table>\n",
       "</div>"
      ],
      "text/plain": [
       "    BsmtFinType1  BsmtFinSF1 BsmtFinType2  BsmtFinSF2  BsmtUnfSF  TotalBsmtSF\n",
       "660          NaN         NaN          NaN         NaN        NaN          NaN"
      ]
     },
     "execution_count": 111,
     "metadata": {},
     "output_type": "execute_result"
    }
   ],
   "source": [
    "total_basement_na_in_test = test_data[test_data['TotalBsmtSF'].isna()][columns]\n",
    "total_basement_na_in_test"
   ]
  },
  {
   "cell_type": "code",
   "execution_count": 112,
   "id": "16878773",
   "metadata": {},
   "outputs": [],
   "source": [
    "test_data.loc[(test_data['TotalBsmtSF'].isna()) ,['BsmtFinType1', 'BsmtFinType2','BsmtUnfSF','TotalBsmtSF','BsmtFinSF1','BsmtFinSF2']] = ['No Basement','No Basement',0,0,0,0]"
   ]
  },
  {
   "cell_type": "code",
   "execution_count": 115,
   "id": "0dd74347",
   "metadata": {},
   "outputs": [
    {
     "data": {
      "text/html": [
       "<div>\n",
       "<style scoped>\n",
       "    .dataframe tbody tr th:only-of-type {\n",
       "        vertical-align: middle;\n",
       "    }\n",
       "\n",
       "    .dataframe tbody tr th {\n",
       "        vertical-align: top;\n",
       "    }\n",
       "\n",
       "    .dataframe thead th {\n",
       "        text-align: right;\n",
       "    }\n",
       "</style>\n",
       "<table border=\"1\" class=\"dataframe\">\n",
       "  <thead>\n",
       "    <tr style=\"text-align: right;\">\n",
       "      <th></th>\n",
       "      <th>BsmtFinType1</th>\n",
       "      <th>BsmtFinSF1</th>\n",
       "      <th>BsmtFinType2</th>\n",
       "      <th>BsmtFinSF2</th>\n",
       "      <th>BsmtUnfSF</th>\n",
       "      <th>TotalBsmtSF</th>\n",
       "    </tr>\n",
       "  </thead>\n",
       "  <tbody>\n",
       "    <tr>\n",
       "      <th>332</th>\n",
       "      <td>GLQ</td>\n",
       "      <td>1124</td>\n",
       "      <td>NaN</td>\n",
       "      <td>479</td>\n",
       "      <td>1603</td>\n",
       "      <td>3206</td>\n",
       "    </tr>\n",
       "  </tbody>\n",
       "</table>\n",
       "</div>"
      ],
      "text/plain": [
       "    BsmtFinType1  BsmtFinSF1 BsmtFinType2  BsmtFinSF2  BsmtUnfSF  TotalBsmtSF\n",
       "332          GLQ        1124          NaN         479       1603         3206"
      ]
     },
     "execution_count": 115,
     "metadata": {},
     "output_type": "execute_result"
    }
   ],
   "source": [
    "BsmtFinType2_na_in_train = train_data[train_data['BsmtFinType2'].isna()][columns]\n",
    "BsmtFinType2_na_in_train"
   ]
  },
  {
   "cell_type": "code",
   "execution_count": 118,
   "id": "580b4670",
   "metadata": {},
   "outputs": [],
   "source": [
    "# Impute missing value with the most frequent value for BsmtFinType2\n",
    "mode_value = train_data[\"BsmtFinType2\"].mode()[0]  \n",
    "train_data[\"BsmtFinType2\"] = train_data[\"BsmtFinType2\"].fillna(mode_value)  "
   ]
  },
  {
   "cell_type": "code",
   "execution_count": null,
   "id": "b800d20f",
   "metadata": {},
   "outputs": [],
   "source": []
  }
 ],
 "metadata": {
  "kernelspec": {
   "display_name": "Python 3 (ipykernel)",
   "language": "python",
   "name": "python3"
  },
  "language_info": {
   "codemirror_mode": {
    "name": "ipython",
    "version": 3
   },
   "file_extension": ".py",
   "mimetype": "text/x-python",
   "name": "python",
   "nbconvert_exporter": "python",
   "pygments_lexer": "ipython3",
   "version": "3.11.7"
  }
 },
 "nbformat": 4,
 "nbformat_minor": 5
}
